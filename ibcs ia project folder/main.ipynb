{
 "cells": [
  {
   "cell_type": "code",
   "execution_count": 384,
   "metadata": {},
   "outputs": [],
   "source": [
    "import random as rand\n",
    "\n",
    "races = open('races.csv', 'r+').read().replace('\\n', ',').split(',')\n",
    "racelist = [\"human\", \"elf\", \"dwarf\", \"halfling\", \"half-elf\", \"half-orc\", \"gnome\"]\n",
    "professions = open('professions.csv', 'r+').read().replace('\\n', ',').split(',')\n",
    "professionlist = [\"laborer\", \"tradesman\", \"merchant\", \"apprentice\", \"clergy\", \"bureaucrat\", \"soldier\"]\n",
    "names = open\n",
    "\n",
    "linedict = {\n",
    "    \"races\" : 7,\n",
    "    \"professions\" : 7,\n",
    "    \"basictrades\" : 4,\n",
    "    \"advtrades\" : 16\n",
    "}"
   ]
  },
  {
   "cell_type": "code",
   "execution_count": 385,
   "metadata": {},
   "outputs": [
    {
     "ename": "SyntaxError",
     "evalue": "expected '(' (109849910.py, line 34)",
     "output_type": "error",
     "traceback": [
      "\u001b[1;36m  Cell \u001b[1;32mIn[385], line 34\u001b[1;36m\u001b[0m\n\u001b[1;33m    def genpc:\u001b[0m\n\u001b[1;37m             ^\u001b[0m\n\u001b[1;31mSyntaxError\u001b[0m\u001b[1;31m:\u001b[0m expected '('\n"
     ]
    }
   ],
   "source": [
    "def select(table,tablename,list,npc):\n",
    "    gennum = rand.randint(1,100)\n",
    "    iterations = 0\n",
    "    newline = linedict[tablename]\n",
    "    for chance in table[newline*npc.settingint:newline*npc.settingint+newline-1]:\n",
    "        gennum -= int(chance)\n",
    "        if gennum <= 0: return list[iterations]\n",
    "        iterations+=1     \n",
    "\n",
    "def finalattribute(attribute, attributename, obj):\n",
    "    if attribute == \"%\":\n",
    "        attribute = gencatt(attributename, obj)\n",
    "    return attribute\n",
    "\n",
    "def gencatt(input, npc):\n",
    "    match input:\n",
    "        case \"name\":\n",
    "            if npc.race == \"half-orc\":\n",
    "                if npc.sex == \"male\":\n",
    "            match npc.race:\n",
    "                case \"none\":\n",
    "                case \"human\":\n",
    "                case \"elf\":\n",
    "        case \"sex\":\n",
    "            gennum = rand.randint(1,2)\n",
    "            if gennum == 1: return \"male\"\n",
    "            else: return \"female\"\n",
    "        case \"race\": return select(races, \"races\", racelist, npc)\n",
    "        case \"profession\": return select(professions, \"professions\", professionlist, npc)\n",
    "        case \"opinion\":\n",
    "            gennum = rand.randint(1,100)\n",
    "            if gennum < 11: return \"extra friendly\"\n",
    "            elif gennum < 31: return \"friendly\"\n",
    "            elif gennum < 71: return \"indifferent\"\n",
    "            elif gennum < 91: return \"distrusting\"\n",
    "            else: return \"hostile\"\n",
    "\n",
    "            \n",
    "class genpc:\n",
    "    def __init__(npc, name, sex, race, stats, profession, opinion, setting):\n",
    "        match setting:\n",
    "            case \"%\": npc.settingint = 0\n",
    "            case \"village\": npc.settingint = 1\n",
    "            case \"fishing village\": npc.settingint = 2\n",
    "            case \"city\": npc.settingint = 3\n",
    "            case \"port city\": npc.settingint = 4\n",
    "            case \"metropolis\": npc.settingint = 5\n",
    "            case \"elven city\": npc.settingint = 6\n",
    "            case \"dwarven city\": npc.settingint = 7\n",
    "            case \"halfling township\": npc.settingint = 8\n",
    "        iterations = 0\n",
    "        for stat in stats:\n",
    "            if stat == \"%\": stat = rand.randint(8,14)\n",
    "            if iterations == 0: npc.strength = stat\n",
    "            elif iterations == 1: npc.dexterity = stat\n",
    "            elif iterations == 2: npc.constitution = stat\n",
    "            elif iterations == 3: npc.intelligence = stat\n",
    "            elif iterations == 4: npc.wisdom = stat\n",
    "            elif iterations == 5: npc.charisma = stat\n",
    "            iterations += 1\n",
    "        npc.sex = finalattribute(sex, \"sex\", npc)\n",
    "        npc.race = finalattribute(race, \"race\", npc)\n",
    "        npc.profession = finalattribute(profession, \"profession\", npc)\n",
    "        npc.opinion = finalattribute(opinion, \"opinion\", npc)\n",
    "        npc.name = finalattribute(name, \"name\", npc)\n",
    "\n",
    "class geninv:\n",
    "    def __init__(inv, type, standing, secret):\n",
    "        match standing:\n",
    "            case \"poor\": inv.standingint = 0\n",
    "            case \"humble\": inv.standingint = 0\n",
    "            case \"normal\": inv.standingint = 0\n",
    "            case \"well-connected\": inv.standingint = 0\n",
    "            case \"high-end\": inv.standingint = 0\n",
    "        if secret:\n",
    "            inv.secretinventory = {}"
   ]
  },
  {
   "cell_type": "code",
   "execution_count": null,
   "metadata": {},
   "outputs": [
    {
     "name": "stdout",
     "output_type": "stream",
     "text": [
      "hobo\n",
      "female\n",
      "human\n",
      "14\n",
      "14\n",
      "9\n",
      "14\n",
      "11\n",
      "12\n",
      "tradesman\n",
      "distrusting\n"
     ]
    }
   ],
   "source": [
    "john = genpc(name=\"hobo\", sex=\"%\", race=\"%\", stats=[\"%\",\"%\",\"%\",\"%\",\"%\",\"%\"], profession=\"%\", opinion=\"%\", setting=\"metropolis\")\n",
    "print(john.name)\n",
    "print(john.sex)\n",
    "print(john.race)\n",
    "print(john.strength)\n",
    "print(john.dexterity)\n",
    "print(john.constitution)\n",
    "print(john.intelligence)\n",
    "print(john.wisdom)\n",
    "print(john.charisma)\n",
    "print(john.profession)\n",
    "print(john.opinion)"
   ]
  }
 ],
 "metadata": {
  "kernelspec": {
   "display_name": "Python 3",
   "language": "python",
   "name": "python3"
  },
  "language_info": {
   "codemirror_mode": {
    "name": "ipython",
    "version": 3
   },
   "file_extension": ".py",
   "mimetype": "text/x-python",
   "name": "python",
   "nbconvert_exporter": "python",
   "pygments_lexer": "ipython3",
   "version": "3.11.8"
  }
 },
 "nbformat": 4,
 "nbformat_minor": 2
}
