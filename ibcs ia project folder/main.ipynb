{
 "cells": [
  {
   "cell_type": "code",
   "execution_count": 2,
   "metadata": {},
   "outputs": [],
   "source": [
    "import random as rand\n",
    "\n",
    "races = open('races.csv', 'r+').read().replace('\\n', ',').split(',')\n",
    "racelist = [\"human\", \"elf\", \"dwarf\", \"halfling\", \"half-elf\", \"half-orc\", \"gnome\"]\n",
    "basictrades = open('basic tradesman.csv', 'r+').read().replace('\\n', ',').split(',')\n",
    "bastradlist = [\"shepherd\",\"hunter\",\"fisherman\",\"farm/stablehand\"]\n",
    "advtrades = open('adv tradesman.csv', 'r+').read().replace('\\n', ',').split(',')\n",
    "advtradlist = [\"carpenter\",\"tanner\",\"cobbler\",\"weaver\",\"mason\",\"locksmith\",\"fletcher\",\"cook\",\"tailor\",\"tax collector\",\"wheelwright\",\"potter\",\"brewer/winemaker\",\"town crier\",\"scribe\",\"shipwright\"]\n",
    "professions = open('professions.csv', 'r+').read().replace('\\n', ',').split(',')\n",
    "professiondict = {basictrades:bastradlist, advtrades:advtradlist}\n",
    "\n",
    "linedict = {}\n",
    "for list in [racelist, list(professiondict.keys()), advtradlist]: linedict[list] = list.len()\n"
   ]
  },
  {
   "cell_type": "code",
   "execution_count": 3,
   "metadata": {},
   "outputs": [],
   "source": [
    "def select(table,list,npc):\n",
    "    gennum = rand.randint(1,100)\n",
    "    iterations = 0\n",
    "    newline = linedict[table]+1\n",
    "    for chance in table[newline*npc.settingint, newline*(npc.settingint+1)-1]:\n",
    "        gennum -= chance\n",
    "        if gennum <= 0: return list[chance]\n",
    "        iterations+1\n",
    "\n",
    "def gencatt(input, npc):\n",
    "    match input:\n",
    "        case \"name\":\n",
    "            return \"null\"\n",
    "        case \"sex\":\n",
    "            gennum = rand.randint(1,100)\n",
    "            if gennum < 51: return \"male\"\n",
    "            else: return \"female\"\n",
    "        case \"race\":\n",
    "            return select(races, racelist, npc)\n",
    "        case \"profession\":\n",
    "            genprof = select(professions, list(professiondict.keys()), npc)\n",
    "            return select(genprof, professiondict[genprof], npc)\n",
    "        case \"opinion\":\n",
    "            gennum = rand.randint(1,100)\n",
    "            if gennum < 11: return \"extra friendly\"\n",
    "            elif gennum < 31: return \"friendly\"\n",
    "            elif gennum < 71: return \"indifferent\"\n",
    "            elif gennum < 91: return \"distrusting\"\n",
    "            else: return \"hostile\"\n",
    "\n",
    "            \n",
    "class genpc:\n",
    "    def __init__(npc, name, sex, race, stats, profession, opinion, setting):\n",
    "        npclist = [npc.name, npc.sex, npc.race, npc.profession, npc.opinion]\n",
    "        attributelist = [name, sex, race, profession, opinion]\n",
    "        match setting:\n",
    "            case \"%\": npc.settingint = 0\n",
    "            case \"village\": npc.settingint = 1\n",
    "            case \"fishing village\": npc.settingint = 2\n",
    "            case \"city\": npc.settingint = 3\n",
    "            case \"port city\": npc.settingint = 4\n",
    "            case \"metropolis\": npc.settingint = 5\n",
    "            case \"elven city\": npc.settingint = 6\n",
    "            case \"dwarven city\": npc.settingint = 7\n",
    "            case \"halfling township\": npc.settingint = 8\n",
    "        for attribute in attributelist:\n",
    "            if attribute == \"none\":\n",
    "                npclist[attributelist.index(attribute)] = \"none\"\n",
    "            elif not attribute == \"%\":\n",
    "                npclist[attributelist.index(attribute)] = attribute\n",
    "            else:\n",
    "                npclist[attributelist.index(attribute)] = gencatt(str(attribute), npc)\n",
    "        for stat in stats:\n",
    "            if not stat == \"%\":\n",
    "                if stats.index(stat) == 0: npc.strength = stat\n",
    "                elif stats.index(stat) == 1: npc.dexterity = stat\n",
    "                elif stats.index(stat) == 2: npc.constitution = stat\n",
    "                elif stats.index(stat) == 3: npc.intelligence = stat\n",
    "                elif stats.index(stat) == 4: npc.wisdom = stat\n",
    "                elif stats.index(stat) == 5: npc.charisma = stat"
   ]
  },
  {
   "cell_type": "code",
   "execution_count": 12,
   "metadata": {},
   "outputs": [
    {
     "name": "stdout",
     "output_type": "stream",
     "text": [
      "76\n",
      "['65', '9', '12', '8', '3', '1', '2']\n",
      "dwarf\n"
     ]
    }
   ],
   "source": [
    "gennum = rand.randint(1,100)\n",
    "print(gennum)\n",
    "iterations = 0\n",
    "print(races[0:7])\n",
    "for chance in races[0:7]:\n",
    "    gennum -= int(chance)\n",
    "    if gennum <= 0: \n",
    "        print(racelist[iterations])\n",
    "        break\n",
    "    iterations += 1"
   ]
  },
  {
   "cell_type": "code",
   "execution_count": 15,
   "metadata": {},
   "outputs": [
    {
     "name": "stdout",
     "output_type": "stream",
     "text": [
      "male\n"
     ]
    }
   ],
   "source": [
    "john = genpc(name=\"john\", sex=\"%\", race=\"%\", stats=[10,10,10,10,10,10], profession=\"%\", opinion=\"%\", setting=\"city\")\n",
    "print(john.sex)"
   ]
  }
 ],
 "metadata": {
  "kernelspec": {
   "display_name": "Python 3",
   "language": "python",
   "name": "python3"
  },
  "language_info": {
   "codemirror_mode": {
    "name": "ipython",
    "version": 3
   },
   "file_extension": ".py",
   "mimetype": "text/x-python",
   "name": "python",
   "nbconvert_exporter": "python",
   "pygments_lexer": "ipython3",
   "version": "3.11.8"
  }
 },
 "nbformat": 4,
 "nbformat_minor": 2
}
