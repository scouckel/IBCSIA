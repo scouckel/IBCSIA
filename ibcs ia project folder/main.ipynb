{
 "cells": [
  {
   "cell_type": "code",
   "execution_count": 67,
   "metadata": {},
   "outputs": [],
   "source": [
    "import random as rand\n",
    "\n",
    "linedict = dict()\n",
    "races = open('races.csv', 'r+').read().replace('\\n', ',').split(',')\n",
    "racelist = [\"human\", \"elf\", \"dwarf\", \"halfling\", \"half-elf\", \"half-orc\", \"gnome\"]\n",
    "professions = open('professions.csv', 'r+').read().replace('\\n', ',').split(',')\n",
    "professionlist = [\"basic tradesmen\", \"adv tradesman\", \"apprentice\", \"merchant\", \"clergy\", \"bureaucrat\" , \"soldier\"]\n",
    "basictrades = open('basic tradesmen.csv', 'r+').read().replace('\\n', ',').split(',')"
   ]
  },
  {
   "cell_type": "code",
   "execution_count": null,
   "metadata": {},
   "outputs": [],
   "source": [
    "def select(table, newline, npc):\n",
    "    for chance in table[newline*npc.settingint, newline*npc.settingint+newline-1]:\n",
    "        gennum -= chance\n",
    "        if gennum <= 0: return table[chance]\n",
    "\n",
    "def gencatt(input, npc):\n",
    "    gennum = rand.randint(1,100)\n",
    "    iterations = 0\n",
    "    match input:\n",
    "        case \"name\":\n",
    "            return \"null\"\n",
    "        case \"sex\":\n",
    "            if gennum < 51: return \"male\"\n",
    "            else: return \"female\"\n",
    "        case \"race\":\n",
    "            for chance in races[8*npc.settingint:8*npc.settingint+7]:\n",
    "                gennum -= chance\n",
    "                if gennum <= 0: return racelist[iterations]\n",
    "                iterations += 1\n",
    "        case \"profession\":\n",
    "            for chance in professions[8*npc.settingint, 8*npc.settingint+7]:\n",
    "                gennum -= chance\n",
    "                if gennum <= 0: \n",
    "                    profession = professions[chance]\n",
    "                    break\n",
    "            match profession:\n",
    "                case \"basic tradesmen\":\n",
    "                    gennum = rand.randint(1,100)\n",
    "                    for chance in basictrades[4*npc.settingint, 4*npc.settingint+3]:\n",
    "                        gennum -= chance\n",
    "                        if gennum <= 0: return basictrades[chance]\n",
    "        case \"opinion\":\n",
    "            if gennum < 11: return \"extra friendly\"\n",
    "            elif gennum < 31: return \"friendly\"\n",
    "            elif gennum < 71: return \"indifferent\"\n",
    "            elif gennum < 91: return \"distrusting\"\n",
    "            else: return \"hostile\"\n",
    "\n",
    "            \n",
    "class genpc:\n",
    "    def __init__(npc, name, sex, race, stats, profession, opinion, setting):\n",
    "        match setting:\n",
    "            case \"%\": npc.settingint = 0\n",
    "            case \"village\": npc.settingint = 1\n",
    "            case \"fishing village\": npc.settingint = 2\n",
    "            case \"city\": npc.settingint = 3\n",
    "            case \"port city\": npc.settingint = 4\n",
    "            case \"metropolis\": npc.settingint = 5\n",
    "            case \"elven city\": npc.settingint = 6\n",
    "            case \"dwarven city\": npc.settingint = 7\n",
    "            case \"halfling township\": npc.settingint = 8\n",
    "        for attribute in [name, sex, race, profession, opinion]:\n",
    "            if attribute == \"none\":\n",
    "                npc.attribute = \"none\"\n",
    "            elif not attribute == \"%\":\n",
    "                npc.attribute = attribute\n",
    "            else:\n",
    "                npc.attribute = gencatt([\"name\", \"sex\", \"race\", \"profession\", \"opinion\"][attribute.index()], npc)\n",
    "        for stat in stats:\n",
    "            if not stat == \"%\":\n",
    "                if stat.index() == 0: npc.strength = stat\n",
    "                elif stat.index() == 1: npc.dexterity = stat\n",
    "                elif stat.index() == 2: npc.constitution = stat\n",
    "                elif stat.index() == 3: npc.intelligence = stat\n",
    "                elif stat.index() == 4: npc.wisdom = stat\n",
    "                elif stat.index() == 5: npc.charisma = stat\n",
    "\n",
    "class geninv:\n",
    "    def __init__():\n",
    "\n",
    "class genloot:\n",
    "    def __init__():"
   ]
  },
  {
   "cell_type": "code",
   "execution_count": 98,
   "metadata": {},
   "outputs": [
    {
     "name": "stdout",
     "output_type": "stream",
     "text": [
      "88\n",
      "['65', '9', '12', '8', '3', '1', '2']\n",
      "halfling\n"
     ]
    }
   ],
   "source": [
    "gennum = rand.randint(1,100)\n",
    "print(gennum)\n",
    "iterations = 0\n",
    "print(races[0:7])\n",
    "for chance in races[0:7]:\n",
    "    gennum -= int(chance)\n",
    "    if gennum <= 0: \n",
    "        print(racelist[iterations])\n",
    "        break\n",
    "    iterations += 1"
   ]
  }
 ],
 "metadata": {
  "kernelspec": {
   "display_name": "Python 3",
   "language": "python",
   "name": "python3"
  },
  "language_info": {
   "codemirror_mode": {
    "name": "ipython",
    "version": 3
   },
   "file_extension": ".py",
   "mimetype": "text/x-python",
   "name": "python",
   "nbconvert_exporter": "python",
   "pygments_lexer": "ipython3",
   "version": "3.11.8"
  }
 },
 "nbformat": 4,
 "nbformat_minor": 2
}
